{
  "cells": [
    {
      "cell_type": "markdown",
      "source": [
        "# **Integrating Experimental Feedback into DCA Generative Models**\n",
        "\n",
        "In this notebook, we train an **experiment-informed DCA model** on **Chorismate Mutase** protein enzymes."
      ],
      "metadata": {
        "id": "dGkXRFwY-1dA"
      }
    },
    {
      "cell_type": "markdown",
      "source": [
        "We start by importing the main PyTorch-based DCA package, **`adabmDCA`**, along with other essential utilities."
      ],
      "metadata": {
        "id": "kpuIbC0K_CCN"
      }
    },
    {
      "cell_type": "code",
      "execution_count": 34,
      "metadata": {
        "colab": {
          "base_uri": "https://localhost:8080/"
        },
        "id": "CkK-9J2FrOIf",
        "outputId": "46917277-178c-4dbf-ef4a-60437b890316"
      },
      "outputs": [
        {
          "output_type": "stream",
          "name": "stdout",
          "text": [
            "Requirement already satisfied: viennarna in /usr/local/lib/python3.11/dist-packages (2.7.0)\n",
            "Requirement already satisfied: adabmDCA in /usr/local/lib/python3.11/dist-packages (0.3.3)\n",
            "Requirement already satisfied: matplotlib>=3.8.0 in /usr/local/lib/python3.11/dist-packages (from adabmDCA) (3.10.0)\n",
            "Requirement already satisfied: numpy>=1.26.4 in /usr/local/lib/python3.11/dist-packages (from adabmDCA) (1.26.4)\n",
            "Requirement already satisfied: pandas>=2.2.2 in /usr/local/lib/python3.11/dist-packages (from adabmDCA) (2.2.2)\n",
            "Requirement already satisfied: torch>=2.5.1 in /usr/local/lib/python3.11/dist-packages (from adabmDCA) (2.5.1+cu124)\n",
            "Requirement already satisfied: tqdm>=4.66.6 in /usr/local/lib/python3.11/dist-packages (from adabmDCA) (4.67.1)\n",
            "Requirement already satisfied: h5py>=3.12.1 in /usr/local/lib/python3.11/dist-packages (from adabmDCA) (3.12.1)\n",
            "Requirement already satisfied: wandb>=0.12.0 in /usr/local/lib/python3.11/dist-packages (from adabmDCA) (0.19.6)\n",
            "Requirement already satisfied: contourpy>=1.0.1 in /usr/local/lib/python3.11/dist-packages (from matplotlib>=3.8.0->adabmDCA) (1.3.1)\n",
            "Requirement already satisfied: cycler>=0.10 in /usr/local/lib/python3.11/dist-packages (from matplotlib>=3.8.0->adabmDCA) (0.12.1)\n",
            "Requirement already satisfied: fonttools>=4.22.0 in /usr/local/lib/python3.11/dist-packages (from matplotlib>=3.8.0->adabmDCA) (4.55.8)\n",
            "Requirement already satisfied: kiwisolver>=1.3.1 in /usr/local/lib/python3.11/dist-packages (from matplotlib>=3.8.0->adabmDCA) (1.4.8)\n",
            "Requirement already satisfied: packaging>=20.0 in /usr/local/lib/python3.11/dist-packages (from matplotlib>=3.8.0->adabmDCA) (24.2)\n",
            "Requirement already satisfied: pillow>=8 in /usr/local/lib/python3.11/dist-packages (from matplotlib>=3.8.0->adabmDCA) (11.1.0)\n",
            "Requirement already satisfied: pyparsing>=2.3.1 in /usr/local/lib/python3.11/dist-packages (from matplotlib>=3.8.0->adabmDCA) (3.2.1)\n",
            "Requirement already satisfied: python-dateutil>=2.7 in /usr/local/lib/python3.11/dist-packages (from matplotlib>=3.8.0->adabmDCA) (2.8.2)\n",
            "Requirement already satisfied: pytz>=2020.1 in /usr/local/lib/python3.11/dist-packages (from pandas>=2.2.2->adabmDCA) (2025.1)\n",
            "Requirement already satisfied: tzdata>=2022.7 in /usr/local/lib/python3.11/dist-packages (from pandas>=2.2.2->adabmDCA) (2025.1)\n",
            "Requirement already satisfied: filelock in /usr/local/lib/python3.11/dist-packages (from torch>=2.5.1->adabmDCA) (3.17.0)\n",
            "Requirement already satisfied: typing-extensions>=4.8.0 in /usr/local/lib/python3.11/dist-packages (from torch>=2.5.1->adabmDCA) (4.12.2)\n",
            "Requirement already satisfied: networkx in /usr/local/lib/python3.11/dist-packages (from torch>=2.5.1->adabmDCA) (3.4.2)\n",
            "Requirement already satisfied: jinja2 in /usr/local/lib/python3.11/dist-packages (from torch>=2.5.1->adabmDCA) (3.1.5)\n",
            "Requirement already satisfied: fsspec in /usr/local/lib/python3.11/dist-packages (from torch>=2.5.1->adabmDCA) (2024.10.0)\n",
            "Requirement already satisfied: nvidia-cuda-nvrtc-cu12==12.4.127 in /usr/local/lib/python3.11/dist-packages (from torch>=2.5.1->adabmDCA) (12.4.127)\n",
            "Requirement already satisfied: nvidia-cuda-runtime-cu12==12.4.127 in /usr/local/lib/python3.11/dist-packages (from torch>=2.5.1->adabmDCA) (12.4.127)\n",
            "Requirement already satisfied: nvidia-cuda-cupti-cu12==12.4.127 in /usr/local/lib/python3.11/dist-packages (from torch>=2.5.1->adabmDCA) (12.4.127)\n",
            "Requirement already satisfied: nvidia-cudnn-cu12==9.1.0.70 in /usr/local/lib/python3.11/dist-packages (from torch>=2.5.1->adabmDCA) (9.1.0.70)\n",
            "Requirement already satisfied: nvidia-cublas-cu12==12.4.5.8 in /usr/local/lib/python3.11/dist-packages (from torch>=2.5.1->adabmDCA) (12.4.5.8)\n",
            "Requirement already satisfied: nvidia-cufft-cu12==11.2.1.3 in /usr/local/lib/python3.11/dist-packages (from torch>=2.5.1->adabmDCA) (11.2.1.3)\n",
            "Requirement already satisfied: nvidia-curand-cu12==10.3.5.147 in /usr/local/lib/python3.11/dist-packages (from torch>=2.5.1->adabmDCA) (10.3.5.147)\n",
            "Requirement already satisfied: nvidia-cusolver-cu12==11.6.1.9 in /usr/local/lib/python3.11/dist-packages (from torch>=2.5.1->adabmDCA) (11.6.1.9)\n",
            "Requirement already satisfied: nvidia-cusparse-cu12==12.3.1.170 in /usr/local/lib/python3.11/dist-packages (from torch>=2.5.1->adabmDCA) (12.3.1.170)\n",
            "Requirement already satisfied: nvidia-nccl-cu12==2.21.5 in /usr/local/lib/python3.11/dist-packages (from torch>=2.5.1->adabmDCA) (2.21.5)\n",
            "Requirement already satisfied: nvidia-nvtx-cu12==12.4.127 in /usr/local/lib/python3.11/dist-packages (from torch>=2.5.1->adabmDCA) (12.4.127)\n",
            "Requirement already satisfied: nvidia-nvjitlink-cu12==12.4.127 in /usr/local/lib/python3.11/dist-packages (from torch>=2.5.1->adabmDCA) (12.4.127)\n",
            "Requirement already satisfied: triton==3.1.0 in /usr/local/lib/python3.11/dist-packages (from torch>=2.5.1->adabmDCA) (3.1.0)\n",
            "Requirement already satisfied: sympy==1.13.1 in /usr/local/lib/python3.11/dist-packages (from torch>=2.5.1->adabmDCA) (1.13.1)\n",
            "Requirement already satisfied: mpmath<1.4,>=1.1.0 in /usr/local/lib/python3.11/dist-packages (from sympy==1.13.1->torch>=2.5.1->adabmDCA) (1.3.0)\n",
            "Requirement already satisfied: click!=8.0.0,>=7.1 in /usr/local/lib/python3.11/dist-packages (from wandb>=0.12.0->adabmDCA) (8.1.8)\n",
            "Requirement already satisfied: docker-pycreds>=0.4.0 in /usr/local/lib/python3.11/dist-packages (from wandb>=0.12.0->adabmDCA) (0.4.0)\n",
            "Requirement already satisfied: gitpython!=3.1.29,>=1.0.0 in /usr/local/lib/python3.11/dist-packages (from wandb>=0.12.0->adabmDCA) (3.1.44)\n",
            "Requirement already satisfied: platformdirs in /usr/local/lib/python3.11/dist-packages (from wandb>=0.12.0->adabmDCA) (4.3.6)\n",
            "Requirement already satisfied: protobuf!=4.21.0,!=5.28.0,<6,>=3.19.0 in /usr/local/lib/python3.11/dist-packages (from wandb>=0.12.0->adabmDCA) (4.25.6)\n",
            "Requirement already satisfied: psutil>=5.0.0 in /usr/local/lib/python3.11/dist-packages (from wandb>=0.12.0->adabmDCA) (5.9.5)\n",
            "Requirement already satisfied: pydantic<3,>=2.6 in /usr/local/lib/python3.11/dist-packages (from wandb>=0.12.0->adabmDCA) (2.10.6)\n",
            "Requirement already satisfied: pyyaml in /usr/local/lib/python3.11/dist-packages (from wandb>=0.12.0->adabmDCA) (6.0.2)\n",
            "Requirement already satisfied: requests<3,>=2.0.0 in /usr/local/lib/python3.11/dist-packages (from wandb>=0.12.0->adabmDCA) (2.32.3)\n",
            "Requirement already satisfied: sentry-sdk>=2.0.0 in /usr/local/lib/python3.11/dist-packages (from wandb>=0.12.0->adabmDCA) (2.20.0)\n",
            "Requirement already satisfied: setproctitle in /usr/local/lib/python3.11/dist-packages (from wandb>=0.12.0->adabmDCA) (1.3.4)\n",
            "Requirement already satisfied: setuptools in /usr/local/lib/python3.11/dist-packages (from wandb>=0.12.0->adabmDCA) (75.1.0)\n",
            "Requirement already satisfied: six>=1.4.0 in /usr/local/lib/python3.11/dist-packages (from docker-pycreds>=0.4.0->wandb>=0.12.0->adabmDCA) (1.17.0)\n",
            "Requirement already satisfied: gitdb<5,>=4.0.1 in /usr/local/lib/python3.11/dist-packages (from gitpython!=3.1.29,>=1.0.0->wandb>=0.12.0->adabmDCA) (4.0.12)\n",
            "Requirement already satisfied: annotated-types>=0.6.0 in /usr/local/lib/python3.11/dist-packages (from pydantic<3,>=2.6->wandb>=0.12.0->adabmDCA) (0.7.0)\n",
            "Requirement already satisfied: pydantic-core==2.27.2 in /usr/local/lib/python3.11/dist-packages (from pydantic<3,>=2.6->wandb>=0.12.0->adabmDCA) (2.27.2)\n",
            "Requirement already satisfied: charset-normalizer<4,>=2 in /usr/local/lib/python3.11/dist-packages (from requests<3,>=2.0.0->wandb>=0.12.0->adabmDCA) (3.4.1)\n",
            "Requirement already satisfied: idna<4,>=2.5 in /usr/local/lib/python3.11/dist-packages (from requests<3,>=2.0.0->wandb>=0.12.0->adabmDCA) (3.10)\n",
            "Requirement already satisfied: urllib3<3,>=1.21.1 in /usr/local/lib/python3.11/dist-packages (from requests<3,>=2.0.0->wandb>=0.12.0->adabmDCA) (2.3.0)\n",
            "Requirement already satisfied: certifi>=2017.4.17 in /usr/local/lib/python3.11/dist-packages (from requests<3,>=2.0.0->wandb>=0.12.0->adabmDCA) (2025.1.31)\n",
            "Requirement already satisfied: MarkupSafe>=2.0 in /usr/local/lib/python3.11/dist-packages (from jinja2->torch>=2.5.1->adabmDCA) (3.0.2)\n",
            "Requirement already satisfied: smmap<6,>=3.0.1 in /usr/local/lib/python3.11/dist-packages (from gitdb<5,>=4.0.1->gitpython!=3.1.29,>=1.0.0->wandb>=0.12.0->adabmDCA) (5.0.2)\n"
          ]
        }
      ],
      "source": [
        "from pathlib import Path\n",
        "import numpy as np\n",
        "import torch\n",
        "\n",
        "%pip install viennarna\n",
        "%pip install adabmDCA\n",
        "\n",
        "# Import some useful functions from reintegration.py\n",
        "from reintegration import get_effective_frequencies,get_predictions,plot_prediction_histogram\n",
        "\n",
        "# Import some useful functions from adabmDCA\n",
        "from adabmDCA.fasta import get_tokens, import_from_fasta\n",
        "from adabmDCA.training import train_graph\n",
        "from adabmDCA.functional import one_hot\n",
        "from adabmDCA.utils import init_parameters, init_chains, get_device, get_dtype, get_mask_save\n",
        "from adabmDCA.sampling import get_sampler\n",
        "from adabmDCA.io import load_params,save_params, save_chains"
      ]
    },
    {
      "cell_type": "code",
      "execution_count": 10,
      "metadata": {
        "colab": {
          "base_uri": "https://localhost:8080/"
        },
        "id": "zAR8w1dUrOIh",
        "outputId": "9143c908-2dd0-4820-c314-98934f8cfd37"
      },
      "outputs": [
        {
          "output_type": "stream",
          "name": "stdout",
          "text": [
            "Running on Tesla T4\n"
          ]
        }
      ],
      "source": [
        "# Set the GPU device\n",
        "device = get_device(\"cuda\")\n",
        "dtype = get_dtype(\"float32\")"
      ]
    },
    {
      "cell_type": "markdown",
      "source": [
        "## Importing the Data\n",
        "\n",
        "Here, we load the necessary data files for our analysis:\n",
        "\n",
        "- **`reintegration.py`**: A Python module that enables us to use the standard **adabmDCA** package to train a reintegrated DCA model.\n",
        "- **`Natural_CM.faa`**: A multiple sequence alignment (MSA) of natural **Chorismate Mutase** enzymes.\n",
        "- **`P1_sample_CM.faa`**: A multiple sequence alignment of **DCA-generated artificial Chorismate Mutase** enzymes.\n",
        "- **`P1_sample_exp.txt`**: Experimental results for the **P1_sample** set, indicating enzymatic functionality:\n",
        "  - `+1` → The sequence is **functional**.\n",
        "  - `-1` → The sequence is **non-functional**.\n",
        "\n",
        "The dataset and experimental data are sourced from [**Russ et al.**](https://www.science.org/doi/10.1126/science.aba3304)"
      ],
      "metadata": {
        "id": "eMPswup-QODX"
      }
    },
    {
      "cell_type": "code",
      "source": [
        "import locale\n",
        "def getpreferredencoding(do_setlocale = True):\n",
        "    return \"UTF-8\"\n",
        "locale.getpreferredencoding = getpreferredencoding\n",
        "\n",
        "!wget \"https://github.com/FrancescoCalvanese/DCA_Reintegration/raw/main/Notebook_Implementation/Notebook_DATA.zip\"\n",
        "!unzip \"/content/Notebook_DATA.zip\" -d /content/"
      ],
      "metadata": {
        "colab": {
          "base_uri": "https://localhost:8080/"
        },
        "id": "9UWwQWR4Cezo",
        "outputId": "cd4fa94d-bb64-4d39-d679-c88b781f5659"
      },
      "execution_count": 31,
      "outputs": [
        {
          "output_type": "stream",
          "name": "stdout",
          "text": [
            "--2025-02-12 16:55:09--  https://github.com/FrancescoCalvanese/DCA_Reintegration/raw/main/Notebook_Implementation/Notebook_DATA.zip\n",
            "Resolving github.com (github.com)... 140.82.114.3\n",
            "Connecting to github.com (github.com)|140.82.114.3|:443... connected.\n",
            "HTTP request sent, awaiting response... 302 Found\n",
            "Location: https://raw.githubusercontent.com/FrancescoCalvanese/DCA_Reintegration/main/Notebook_Implementation/Notebook_DATA.zip [following]\n",
            "--2025-02-12 16:55:09--  https://raw.githubusercontent.com/FrancescoCalvanese/DCA_Reintegration/main/Notebook_Implementation/Notebook_DATA.zip\n",
            "Resolving raw.githubusercontent.com (raw.githubusercontent.com)... 185.199.109.133, 185.199.111.133, 185.199.110.133, ...\n",
            "Connecting to raw.githubusercontent.com (raw.githubusercontent.com)|185.199.109.133|:443... connected.\n",
            "HTTP request sent, awaiting response... 200 OK\n",
            "Length: 93649 (91K) [application/zip]\n",
            "Saving to: ‘Notebook_DATA.zip’\n",
            "\n",
            "Notebook_DATA.zip   100%[===================>]  91.45K  --.-KB/s    in 0.02s   \n",
            "\n",
            "2025-02-12 16:55:09 (5.63 MB/s) - ‘Notebook_DATA.zip’ saved [93649/93649]\n",
            "\n",
            "Archive:  /content/Notebook_DATA.zip\n",
            "  inflating: /content/reintegration.py  \n",
            "  inflating: /content/__MACOSX/._reintegration.py  \n",
            "  inflating: /content/P1_sample_exp.txt  \n",
            "  inflating: /content/__MACOSX/._P1_sample_exp.txt  \n",
            "  inflating: /content/P1_sample_CM.faa  \n",
            "  inflating: /content/__MACOSX/._P1_sample_CM.faa  \n",
            "  inflating: /content/Natural_CM.faa  \n",
            "  inflating: /content/__MACOSX/._Natural_CM.faa  \n"
          ]
        }
      ]
    },
    {
      "cell_type": "markdown",
      "source": [
        "We set our model alphabet to **proteins** and load the natural dataset:"
      ],
      "metadata": {
        "id": "SnEtb1XFSh52"
      }
    },
    {
      "cell_type": "code",
      "execution_count": 32,
      "metadata": {
        "colab": {
          "base_uri": "https://localhost:8080/"
        },
        "id": "qq-B4AjarOIi",
        "outputId": "2429531c-0ed5-4920-fc1e-19df80f4dc4b"
      },
      "outputs": [
        {
          "output_type": "stream",
          "name": "stdout",
          "text": [
            "Number of sequences in the MSA: M=1130\n",
            "Length of the MSA: L=96\n",
            "Number of Potts states: q=21\n"
          ]
        }
      ],
      "source": [
        "# Select the alphabet corresponding to protein sequences\n",
        "tokens = get_tokens(\"protein\")\n",
        "\n",
        "# Import the Natural MSA\n",
        "path_data = \"/content/Natural_CM.faa\"\n",
        "headers, sequences = import_from_fasta(path_data, tokens=tokens, filter_sequences=True)\n",
        "M, L, q = len(sequences), len(sequences[0]), len(tokens)\n",
        "\n",
        "print(f\"Number of sequences in the MSA: M={M}\")\n",
        "print(f\"Length of the MSA: L={L}\")\n",
        "print(f\"Number of Potts states: q={q}\")\n",
        "\n",
        "msa_enc = torch.tensor(sequences, device=device, dtype=torch.int32)"
      ]
    },
    {
      "cell_type": "markdown",
      "source": [
        "We load the dataset of **DCA-tested designs** from [**Russ et al.**](https://www.science.org/doi/10.1126/science.aba3304), along with the corresponding experimental results.  \n",
        "\n",
        "This dataset serves as our **reintegration dataset**, allowing the DCA model to incorporate experimental feedback."
      ],
      "metadata": {
        "id": "YTOlv-e-S8Jk"
      }
    },
    {
      "cell_type": "code",
      "execution_count": 33,
      "metadata": {
        "colab": {
          "base_uri": "https://localhost:8080/"
        },
        "id": "MXCxt-TXrOIk",
        "outputId": "f9330a9e-9e91-4f70-81f4-30dd5e858dfe"
      },
      "outputs": [
        {
          "output_type": "stream",
          "name": "stdout",
          "text": [
            "Number of sequences to be reintegrated: M_r=1003\n"
          ]
        }
      ],
      "source": [
        "# Import the reintegration dataset\n",
        "path_data_reint = \"/content/P1_sample_CM.faa\"\n",
        "headers_r, sequences_r = import_from_fasta(path_data_reint, tokens=tokens, filter_sequences=True)\n",
        "M_r, L_r, q_r = len(sequences_r), len(sequences_r[0]), len(tokens)\n",
        "\n",
        "print(f\"Number of sequences to be reintegrated: M_r={M_r}\")\n",
        "\n",
        "msa_enc_r = torch.tensor(sequences_r, device=device, dtype=torch.int32)"
      ]
    },
    {
      "cell_type": "code",
      "execution_count": 13,
      "metadata": {
        "id": "7KT0W1UJrOIl"
      },
      "outputs": [],
      "source": [
        "# Import the adjustment vector\n",
        "adjustment_vector = []\n",
        "with open(\"/content/P1_sample_exp.txt\", \"r\") as f:\n",
        "    adjustment_vector = [float(line.strip()) for line in f]\n",
        "adjustment_tensor = torch.tensor(adjustment_vector)"
      ]
    },
    {
      "cell_type": "markdown",
      "source": [
        "We set the **reintegration strength parameter**  **λ**  **to** **1**.  \n",
        "\n",
        "The **adjustment vector ω** is assigned **+1** for **functional sequences** and **-1** for **non-functional sequences**. This ensures that both the **natural training dataset** and the **reintegration dataset** contribute **equally** to the model.  \n",
        "\n",
        "This reintegration scheme (+1 for functional sequences, -1 for non-functional sequencs and λ=1) is a solid starting point for applying the reintegration procedure."
      ],
      "metadata": {
        "id": "W-e1gm_STeYn"
      }
    },
    {
      "cell_type": "code",
      "execution_count": 14,
      "metadata": {
        "id": "_grqNX8ArOIl"
      },
      "outputs": [],
      "source": [
        "# Set the reintegration strength\n",
        "lambda_ = 1"
      ]
    },
    {
      "cell_type": "markdown",
      "source": [
        "We compute the **effective sequences** that will be used as training targets for the DCA model, as described in [paper link]."
      ],
      "metadata": {
        "id": "MV8K4SaeU7Q2"
      }
    },
    {
      "cell_type": "code",
      "execution_count": 15,
      "metadata": {
        "id": "JZ7rQW4GrOIl"
      },
      "outputs": [],
      "source": [
        "# Get the effective frequencies\n",
        "fi_eff,fij_eff = get_effective_frequencies(msa_enc=msa_enc,msa_enc_r=msa_enc_r,adjustment_tensor=adjustment_tensor,lambda_=lambda_)"
      ]
    },
    {
      "cell_type": "code",
      "execution_count": 16,
      "metadata": {
        "id": "ocIfHtNMrOIl"
      },
      "outputs": [],
      "source": [
        "output_folder_reint = f\"model_CM_reint_lambda{lambda_}\"\n",
        "folder_reint = Path(output_folder_reint)\n",
        "folder_reint.mkdir(parents=True, exist_ok=True)\n",
        "\n",
        "# Label for the ouput files\n",
        "label_reint = \"bmDCA_reint\"\n",
        "\n",
        "# Paths for the output files\n",
        "path_params_reint  = folder_reint / Path(f\"{label_reint}_params.dat\")\n",
        "path_chains_reint  = folder_reint / Path(f\"{label_reint}_chains.fasta\")"
      ]
    },
    {
      "cell_type": "markdown",
      "source": [
        "We set the DCA training parameters:"
      ],
      "metadata": {
        "id": "oT714_6BVQXa"
      }
    },
    {
      "cell_type": "code",
      "execution_count": 17,
      "metadata": {
        "id": "Yt3VC_l6rOIl"
      },
      "outputs": [],
      "source": [
        "# Choose the hyperparameters of the training\n",
        "nchains = 10000 # Number of Monte Carlo chains\n",
        "nsweeps = 10    # Number of sweeps at each gradient update\n",
        "target = 0.95   # Target Pearson Cij\n",
        "lr = 0.05       # Learning rate\n",
        "\n",
        "params_reint = init_parameters(fi=fi_eff)\n",
        "chains_reint = init_chains(num_chains=nchains, L=L,q=q, device=device, fi=fi_eff).cuda()\n",
        "log_weights_reint = torch.zeros(len(chains_reint), device=device)\n",
        "\n",
        "\n",
        "# Mask for removing the autocorrelations\n",
        "mask_reint = torch.ones(size=(L, q, L, q), dtype=torch.bool, device=device)\n",
        "mask_reint[torch.arange(L), :, torch.arange(L), :] = 0\n",
        "\n",
        "# Mask for saving only the upper diagnal part of the weight_matrix\n",
        "mask_save_reint = get_mask_save(L=L, q=q, device=device)\n",
        "\n",
        "# Select the sampler\n",
        "sampler = get_sampler(\"gibbs\")"
      ]
    },
    {
      "cell_type": "code",
      "execution_count": 18,
      "metadata": {
        "colab": {
          "base_uri": "https://localhost:8080/"
        },
        "id": "wwSoD6_orOIm",
        "outputId": "686e71e9-3ffc-4325-db48-48747163b882"
      },
      "outputs": [
        {
          "output_type": "stream",
          "name": "stderr",
          "text": []
        }
      ],
      "source": [
        "chains_reint, params_reint, log_weights_reint = train_graph(\n",
        "    sampler=sampler,\n",
        "    chains=chains_reint,\n",
        "    fi=fi_eff,\n",
        "    fij=fij_eff,\n",
        "    params=params_reint,\n",
        "    mask=mask_reint,\n",
        "    nsweeps=nsweeps,\n",
        "    lr=lr,\n",
        "    max_epochs=10000,\n",
        "    target_pearson=target,\n",
        ")"
      ]
    },
    {
      "cell_type": "markdown",
      "source": [
        "We save the trained model and perform **functionality prediction classification** on the generated sequences using the **logistic regression classifier** described in [Russ et al.](https://www.science.org/doi/10.1126/science.aba3304)."
      ],
      "metadata": {
        "id": "dfYzHsGbVW2o"
      }
    },
    {
      "cell_type": "code",
      "execution_count": 19,
      "metadata": {
        "id": "dX4dtGv1rOIm"
      },
      "outputs": [],
      "source": [
        "# Save parameters and chains\n",
        "save_params(fname=path_params_reint, params=params_reint, mask=mask_save_reint, tokens=tokens)\n",
        "save_chains(fname=path_chains_reint, chains=chains_reint.argmax(-1), tokens=tokens, log_weights=log_weights_reint)"
      ]
    },
    {
      "cell_type": "code",
      "execution_count": 21,
      "metadata": {
        "id": "o44tcN7drOIn"
      },
      "outputs": [],
      "source": [
        "predictions = get_predictions(\"/content/Natural_CM.faa\",f\"model_CM_reint_lambda{lambda_}/bmDCA_reint_chains.fasta\")"
      ]
    },
    {
      "cell_type": "code",
      "execution_count": 22,
      "metadata": {
        "id": "dsaPFynBrOIn",
        "outputId": "959a651e-9265-4e39-b13f-29b0259817a0",
        "colab": {
          "base_uri": "https://localhost:8080/",
          "height": 649
        }
      },
      "outputs": [
        {
          "output_type": "display_data",
          "data": {
            "text/plain": [
              "<Figure size 700x700 with 1 Axes>"
            ],
            "image/png": "[encoded data removed]"
          },
          "metadata": {}
        }
      ],
      "source": [
        "plot_prediction_histogram(predictions,lambda_)"
      ]
    },
    {
      "cell_type": "markdown",
      "source": [
        "The **reintegrated model** produces **67% predicted-functional designs**, compared to **34%** for the non-reintegrated model."
      ],
      "metadata": {
        "id": "2RFjZw1xV6y6"
      }
    }
  ],
  "metadata": {
    "kernelspec": {
      "display_name": "Python 3",
      "name": "python3"
    },
    "language_info": {
      "codemirror_mode": {
        "name": "ipython",
        "version": 3
      },
      "file_extension": ".py",
      "mimetype": "text/x-python",
      "name": "python",
      "nbconvert_exporter": "python",
      "pygments_lexer": "ipython3",
      "version": "3.12.8"
    },
    "colab": {
      "provenance": [],
      "gpuType": "T4"
    },
    "accelerator": "GPU"
  },
  "nbformat": 4,
  "nbformat_minor": 0
}
